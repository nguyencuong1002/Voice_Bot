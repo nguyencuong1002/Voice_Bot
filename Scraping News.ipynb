{
 "cells": [
  {
   "cell_type": "code",
   "execution_count": 23,
   "id": "e988899c",
   "metadata": {},
   "outputs": [],
   "source": [
    "from selenium import webdriver\n",
    "from selenium.webdriver.chrome.service import Service\n",
    "from selenium.webdriver.common.by import By\n",
    "from bs4 import BeautifulSoup\n",
    "from selenium.webdriver.common.keys import Keys\n",
    "from selenium.webdriver.common.by import By\n",
    "from selenium.webdriver.support import expected_conditions as EC\n",
    "from selenium.webdriver.support.wait import WebDriverWait\n",
    "from time import sleep"
   ]
  },
  {
   "cell_type": "code",
   "execution_count": 24,
   "id": "999024df",
   "metadata": {},
   "outputs": [
    {
     "name": "stdout",
     "output_type": "stream",
     "text": [
      "Giày Thể Thao 𝓪𝓭𝓲𝓭𝓪𝓼 𝓢𝓾𝓹𝓮𝓻𝓼𝓽𝓪𝓻 Trắng 3 Sọc nam nữ hàng cao cấp full box bill\n",
      "150.000\n",
      "[HÀNG CHẤT⚡️FULL BOX] Adidas Alphabounce Giày thể thao nam nữ, giày chạy bộ\n",
      "279.000\n",
      "Giày Sneaker Nam Nữ Trắng 𝑨𝒅𝒊𝒅𝒂𝒔 𝑴𝒖̃𝒊 𝑺𝒐̀, Giày Thể Thao Das 𝑺𝒐̀ Đủ Size Nam Nữphun box bill\n",
      "50.000 đến 150.000\n",
      "[rẻ vô địch] Giày adidas xuất dư full box, bill xịn mịn\n",
      "195.000\n",
      "[Chính Hãng] [KÈM VIDEO ẢNH THẬT] Giày Adidas Stan Smith Gót Trắng Giá Rẻ . 2020 new . 2020 ️🥇 . NEW : : ' ,\n",
      "86.360 đến 93.077\n",
      "Giày Thể Thao Sneaker Nữ 𝐀𝐝𝐢𝐝𝐚𝐬 Thời Trang Màu Hồng - Giày 𝐀𝐝𝐢𝐝𝐚𝐬 Nữ Cao Cấp Full Box\n",
      "499.000\n",
      "Giày thể thao Adidas ZX 2K Boost 2021 gồm 4 màu có 9 size năng động thời trang\n",
      "433.735\n",
      "GIÀY  ADIDAS ABACA Trắng sọc đen MÃ GZ6182\n",
      "1.050.000\n",
      "🔥 SALE [Chính Hãng] Giày adidas alphabounce - real . 2020 new . 2020 ️🥇 New ✔️ 2020 new ^ : ' . 🔥 ' : \" ₁ . ) ༈ . ྇ .\n",
      "145.000\n",
      "Giày Adidas stan smith Bản SlÊU CẤP nam/nữ [fullbill,box] -GD sneaker\n",
      "480.000\n",
      "GIày superstar mũi sò màu trắng sọc đen, giày thể thao adidas nam nữ cao cấp sezi 36_43\n",
      "360.000 đến 430.000\n",
      "[⚡ RẺ VÔ ĐỊCH⚡️] Giày adidas xuất dư full box, bill xịn mịn\n",
      "195.000\n",
      "[SALE SỐC-SẴN HÀNG] Giày adidas PROPHERE CAM ĐẤT size 36->39\n",
      "299.000 đến 320.000\n",
      "Giày Thể Thao Sneakers Nam Nữ Adidas Siêu Nhẹ Màu Đen Sọc Trắng - Giày Adidas Chạy Bộ Tập Gym Cực Êm Full Box\n",
      "290.000\n",
      "Giày Adidas Nam Nữ Thể Thao Superstar Thời Trang Cổ Thấp Hàng Đẹp Full Box Bill\n",
      "179.000\n"
     ]
    }
   ],
   "source": [
    "driver = webdriver.Chrome(service=Service('C:\\\\Users\\\\CUONG NGUYEN\\\\.wdm\\\\drivers\\\\chromedriver\\\\win32\\\\100.0.4896.60\\\\chromedriver.exe'))\n",
    "# url = 'https://shopee.vn/'\n",
    "# driver.get(url)\n",
    "# searchbox_shopee = WebDriverWait(driver, 10).until(EC.element_to_be_clickable((By.XPATH, '//*[@id=\"main\"]/div/div[2]/div[2]/div/div[1]/div[1]/div/form/input')))\n",
    "# searchbox_shopee.clear()\n",
    "\n",
    "keyword = 'Giày Adidas'\n",
    "# searchbox_shopee.send_keys(keyword)\n",
    "url = \"https://shopee.vn/search?keyword=\" + keyword\n",
    "driver.get(url)\n",
    "\n",
    "sleep(2)\n",
    "soup1 = BeautifulSoup(driver.page_source, 'html.parser')\n",
    "product_items = soup1.find_all('div', {'class': 'ie3A+n bM+7UW Cve6sh'})\n",
    "product_price = soup1.find_all('div', {'class': 'vioxXd rVLWG6'})\n",
    "\n",
    "for i in range(0,len(product_items)):\n",
    "    print(product_items[i].text)\n",
    "    print(product_price[i].text.replace(\"₫\", \"\").replace(\"-\", \"đến\"))"
   ]
  },
  {
   "cell_type": "code",
   "execution_count": 21,
   "id": "78ad0426",
   "metadata": {},
   "outputs": [
    {
     "name": "stdout",
     "output_type": "stream",
     "text": [
      "GIày superstar mũi sò màu trắng sọc đen, giày thể thao adidas nam nữ cao cấp sezi 36_43\n",
      "360.000 đến 430.000\n",
      "Giày Adidas Nam Nữ Thể Thao Superstar Thời Trang Cổ Thấp Hàng Đẹp Full Box Bill\n",
      "179.000\n",
      "[ CHIU Sneaker ] Giày thể thao jd1 cổ thấp xanh lá phiên bản cao cấp Jordan 1 cổ thấp\n",
      "699.000\n",
      "HÀNG CÓ SẴN FULL BOX GIẦY THỂ THAO ULTRA BOOST CAP CẤP\n",
      "450.000\n",
      "Giày thể thao adidas chính hãng X9000l1 \"Acid Mint\" Fy0298 - Bounty Sneakers\n",
      "1.250.000\n",
      "Giày Thể Thao 𝓪𝓭𝓲𝓭𝓪𝓼 𝓢𝓾𝓹𝓮𝓻𝓼𝓽𝓪𝓻 Trắng 3 Sọc nam nữ hàng cao cấp full box bill\n",
      "150.000\n",
      "Giày Sneaker Nam Nữ Trắng 𝑨𝒅𝒊𝒅𝒂𝒔 𝑴𝒖̃𝒊 𝑺𝒐̀, Giày Thể Thao Das 𝑺𝒐̀ Đủ Size Nam Nữphun box bill\n",
      "50.000 đến 150.000\n",
      "[Chính Hãng] giày adidas nam, giày thể thao nam cao cấp . 2020 new . 2020 ️🥇 . NEW : : ' ,\n",
      "82.063\n",
      "XẢ [Real] 💝 Giày Adidas EQT Nam/Nữ 2020 . 2020 new . , 2020 new 🌟 : 🛫. . ♭ 2021 \" ' ` ^\n",
      "148.000\n",
      "Xả 12.12 [Chính Hãng] (Freeship+Full box) Giày Adidas Prophere ❤ Đỏ đế trắng . 2020 new . 2020 ️🥇 . NEW : ' \" : * > || (\n",
      "125.486\n",
      "[rẻ vô địch] Giày adidas xuất dư full box, bill xịn mịn\n",
      "195.000\n",
      "[Hàng order] Giày ADiDAS xuất\n",
      "290.000\n",
      "[HÀNG CHẤT⚡️FULL BOX] Adidas Alphabounce Giày thể thao nam nữ, giày chạy bộ\n",
      "279.000\n",
      "Giày Adidas Alphabounce Trắng Đế Đen (fullbox + freeship)\n",
      "469.000\n",
      "Giày thể thao Adidas ZX 2K Boost 2021 gồm 4 màu có 9 size năng động thời trang\n",
      "433.735\n"
     ]
    }
   ],
   "source": [
    "# soup1 = BeautifulSoup(driver.page_source, 'html.parser')\n",
    "# product_items = soup1.find_all('div', {'class': 'ie3A+n bM+7UW Cve6sh'})\n",
    "# product_price = soup1.find_all('div', {'class': 'vioxXd rVLWG6'})\n",
    "\n",
    "# for i in range(0,len(product_items)):\n",
    "#     print(product_items[i].text)\n",
    "#     print(product_price[i].text.replace(\"₫\", \"\").replace(\"-\", \"đến\"))"
   ]
  },
  {
   "cell_type": "code",
   "execution_count": 9,
   "id": "d05ca7b1",
   "metadata": {},
   "outputs": [],
   "source": [
    "# searchbox_shopee = WebDriverWait(driver, 10).until(EC.element_to_be_clickable((By.XPATH, '//*[@id=\"main\"]/div/div[2]/div[2]/div/div[1]/div[1]/div/form/input')))\n",
    "# searchbox_shopee.clear()\n",
    "\n",
    "# keyword = 'Giày Adidas'\n",
    "# searchbox_shopee.send_keys(keyword)\n",
    "# url = \"https://shopee.vn/search?keyword=\" + keyword\n",
    "# driver.get(url)"
   ]
  },
  {
   "cell_type": "code",
   "execution_count": 10,
   "id": "c771d127",
   "metadata": {},
   "outputs": [],
   "source": [
    "# soup1 = BeautifulSoup(driver.page_source, 'html.parser')\n",
    "# soup1"
   ]
  },
  {
   "cell_type": "code",
   "execution_count": 11,
   "id": "ddeefd7c",
   "metadata": {
    "scrolled": true
   },
   "outputs": [],
   "source": [
    "# product_items = soup1.find_all('div', {'class': 'ie3A+n bM+7UW Cve6sh'})\n",
    "# product_price = soup1.find_all('div', {'class': 'vioxXd rVLWG6'})\n",
    "# print(product_items)\n",
    "# print(product_price)\n",
    "\n",
    "# for i in range(0,len(product_items)):\n",
    "#     print(product_items[i].text)\n",
    "#     print(product_price[i].text.replace(\"₫\", \"\").replace(\"-\", \"đến\"))\n"
   ]
  },
  {
   "cell_type": "code",
   "execution_count": null,
   "id": "af0177fe",
   "metadata": {},
   "outputs": [],
   "source": []
  }
 ],
 "metadata": {
  "kernelspec": {
   "display_name": "Python 3 (ipykernel)",
   "language": "python",
   "name": "python3"
  },
  "language_info": {
   "codemirror_mode": {
    "name": "ipython",
    "version": 3
   },
   "file_extension": ".py",
   "mimetype": "text/x-python",
   "name": "python",
   "nbconvert_exporter": "python",
   "pygments_lexer": "ipython3",
   "version": "3.9.7"
  }
 },
 "nbformat": 4,
 "nbformat_minor": 5
}
