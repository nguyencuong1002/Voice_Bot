{
 "cells": [
  {
   "cell_type": "code",
   "execution_count": 31,
   "id": "45705db6",
   "metadata": {},
   "outputs": [],
   "source": [
    "import csv\n",
    "from bs4 import BeautifulSoup"
   ]
  },
  {
   "cell_type": "code",
   "execution_count": 32,
   "id": "0c42742e",
   "metadata": {},
   "outputs": [],
   "source": [
    "#firefox and chrome\n",
    "from selenium import webdriver"
   ]
  },
  {
   "cell_type": "code",
   "execution_count": 33,
   "id": "c158cc17",
   "metadata": {},
   "outputs": [],
   "source": [
    "#microsoft edge\n",
    "from msedge.selenium_tools import Edge, EdgeOptions"
   ]
  },
  {
   "cell_type": "markdown",
   "id": "15be07a2",
   "metadata": {},
   "source": [
    "### Startup the webdriver"
   ]
  },
  {
   "cell_type": "code",
   "execution_count": 34,
   "id": "cd3103fd",
   "metadata": {},
   "outputs": [],
   "source": [
    "#firefox and chrome\n",
    "# driver = webdriver.FireFox()\n",
    "# driver = webdriver.Chrome()"
   ]
  },
  {
   "cell_type": "code",
   "execution_count": 37,
   "id": "1fc5faec",
   "metadata": {},
   "outputs": [
    {
     "name": "stderr",
     "output_type": "stream",
     "text": [
      "\n",
      "\n",
      "====== WebDriver manager ======\n",
      "Current google-chrome version is 100.0.4896\n",
      "Get LATEST chromedriver version for 100.0.4896 google-chrome\n",
      "There is no [win32] chromedriver for browser 100.0.4896 in cache\n",
      "Trying to download new driver from https://chromedriver.storage.googleapis.com/100.0.4896.60/chromedriver_win32.zip\n",
      "Driver has been saved in cache [C:\\Users\\CUONG NGUYEN\\.wdm\\drivers\\chromedriver\\win32\\100.0.4896.60]\n"
     ]
    }
   ],
   "source": [
    "#chrome\n",
    "from selenium import webdriver\n",
    "from selenium.webdriver.chrome.service import Service\n",
    "from webdriver_manager.chrome import ChromeDriverManager\n",
    "\n",
    "driver = webdriver.Chrome(service=Service(ChromeDriverManager().install()))\n"
   ]
  },
  {
   "cell_type": "code",
   "execution_count": 38,
   "id": "d7a3ed00",
   "metadata": {},
   "outputs": [],
   "source": [
    "url = 'https://www.amazon.com/'\n",
    "driver.get(url)"
   ]
  },
  {
   "cell_type": "code",
   "execution_count": 41,
   "id": "c42ee978",
   "metadata": {},
   "outputs": [],
   "source": [
    "def get_url(search_term):\n",
    "    template = 'https://www.amazon.com/s?k={}&pd_rd_r=1dc02379-1097-4e2e-9b6f-9f458cdd5916&pd_rd_w=YOfcP&pd_rd_wg=wQEib&pf_rd_p=12129333-2117-4490-9c17-6d31baf0582a&pf_rd_r=9XFYQ5D3SSXQEDWWAMG9&ref=pd_gw_unk'\n",
    "    search_term = search_term.replace(' ', '+')\n",
    "    return template.format(search_term)"
   ]
  },
  {
   "cell_type": "code",
   "execution_count": 42,
   "id": "f44dc7a4",
   "metadata": {},
   "outputs": [
    {
     "name": "stdout",
     "output_type": "stream",
     "text": [
      "https://www.amazon.com/s?k=gaming+chairs&pd_rd_r=1dc02379-1097-4e2e-9b6f-9f458cdd5916&pd_rd_w=YOfcP&pd_rd_wg=wQEib&pf_rd_p=12129333-2117-4490-9c17-6d31baf0582a&pf_rd_r=9XFYQ5D3SSXQEDWWAMG9&ref=pd_gw_unk\n"
     ]
    }
   ],
   "source": [
    "url = get_url('gaming chairs')\n",
    "print(url)"
   ]
  },
  {
   "cell_type": "markdown",
   "id": "29925a13",
   "metadata": {},
   "source": [
    "### Extract collection"
   ]
  },
  {
   "cell_type": "code",
   "execution_count": 43,
   "id": "7735733f",
   "metadata": {},
   "outputs": [],
   "source": [
    "soup = BeautifulSoup(driver.page_source, 'html.parser')"
   ]
  },
  {
   "cell_type": "code",
   "execution_count": 44,
   "id": "fc4b6eac",
   "metadata": {},
   "outputs": [],
   "source": [
    "# Danh sách các thẻ của sản phẩm(tên sp, giá bán, rating, ... )\n",
    "results = soup.find_all('div', {'data-component-type':'s-search-result'})"
   ]
  },
  {
   "cell_type": "code",
   "execution_count": 45,
   "id": "2828cb5e",
   "metadata": {},
   "outputs": [
    {
     "data": {
      "text/plain": [
       "60"
      ]
     },
     "execution_count": 45,
     "metadata": {},
     "output_type": "execute_result"
    }
   ],
   "source": [
    "len(results)"
   ]
  },
  {
   "cell_type": "markdown",
   "id": "ffc63d3d",
   "metadata": {},
   "source": [
    "### Prototype with the record thứ 1"
   ]
  },
  {
   "cell_type": "code",
   "execution_count": 46,
   "id": "d7402b29",
   "metadata": {},
   "outputs": [],
   "source": [
    "# Test với bản ghi đầu tiên\n",
    "item = results[0]"
   ]
  },
  {
   "cell_type": "code",
   "execution_count": 1,
   "id": "d4c6049e",
   "metadata": {},
   "outputs": [
    {
     "ename": "NameError",
     "evalue": "name 'item' is not defined",
     "output_type": "error",
     "traceback": [
      "\u001b[1;31m---------------------------------------------------------------------------\u001b[0m",
      "\u001b[1;31mNameError\u001b[0m                                 Traceback (most recent call last)",
      "\u001b[1;32mC:\\Users\\CUONGN~1\\AppData\\Local\\Temp/ipykernel_15460/3624179070.py\u001b[0m in \u001b[0;36m<module>\u001b[1;34m\u001b[0m\n\u001b[1;32m----> 1\u001b[1;33m \u001b[0matag\u001b[0m \u001b[1;33m=\u001b[0m \u001b[0mitem\u001b[0m\u001b[1;33m.\u001b[0m\u001b[0mh2\u001b[0m\u001b[1;33m.\u001b[0m\u001b[0ma\u001b[0m\u001b[1;33m\u001b[0m\u001b[1;33m\u001b[0m\u001b[0m\n\u001b[0m",
      "\u001b[1;31mNameError\u001b[0m: name 'item' is not defined"
     ]
    }
   ],
   "source": [
    "atag = item.h2.a"
   ]
  },
  {
   "cell_type": "code",
   "execution_count": 62,
   "id": "64216a1c",
   "metadata": {},
   "outputs": [],
   "source": [
    "description = atag.text.strip()"
   ]
  },
  {
   "cell_type": "code",
   "execution_count": 67,
   "id": "6aae5924",
   "metadata": {},
   "outputs": [],
   "source": [
    "url = 'https://www.amazon.com' + atag.get('href')"
   ]
  },
  {
   "cell_type": "code",
   "execution_count": 71,
   "id": "064443ff",
   "metadata": {},
   "outputs": [
    {
     "data": {
      "text/plain": [
       "'$188.12'"
      ]
     },
     "execution_count": 71,
     "metadata": {},
     "output_type": "execute_result"
    }
   ],
   "source": [
    "price_parent = item.find('span', 'a-price')\n",
    "price = price_parent.find('span', 'a-offscreen').text"
   ]
  },
  {
   "cell_type": "code",
   "execution_count": 72,
   "id": "9965ffe7",
   "metadata": {},
   "outputs": [
    {
     "data": {
      "text/plain": [
       "'4.6 out of 5 stars'"
      ]
     },
     "execution_count": 72,
     "metadata": {},
     "output_type": "execute_result"
    }
   ],
   "source": [
    "rating = item.i.text"
   ]
  },
  {
   "cell_type": "code",
   "execution_count": 74,
   "id": "1ee05422",
   "metadata": {},
   "outputs": [
    {
     "data": {
      "text/plain": [
       "'1,836'"
      ]
     },
     "execution_count": 74,
     "metadata": {},
     "output_type": "execute_result"
    }
   ],
   "source": [
    "review_count = item.find('span', {'class': 'a-size-base'}).text"
   ]
  },
  {
   "cell_type": "markdown",
   "id": "07e4e439",
   "metadata": {},
   "source": [
    "### Generalize the pattern ( error handling)"
   ]
  },
  {
   "cell_type": "code",
   "execution_count": 82,
   "id": "9ece5ee5",
   "metadata": {},
   "outputs": [],
   "source": [
    "#trích xuất dữ liệu - Extract in ETL\n",
    "def extract_record(item):\n",
    "    \"\"\"Extract and return data from single record\"\"\"\n",
    "    \n",
    "    #description and url\n",
    "    atag = item.h2.a\n",
    "    description = atag.text.strip()\n",
    "    url = 'https://www.amazon.com' + atag.get('href')\n",
    "    \n",
    "    #price\n",
    "    try:\n",
    "        price_parent = item.find('span', 'a-price')\n",
    "        price = price_parent.find('span', 'a-offscreen').text\n",
    "    except AttributeError:\n",
    "        return\n",
    "    \n",
    "    #rating and amount of customer rating\n",
    "    try:\n",
    "        rating = item.i.text\n",
    "        review_count = item.find('span', {'class': 'a-size-base'}).text\n",
    "    except AttributeError:\n",
    "        rating = ''\n",
    "        review_count = ''\n",
    "        \n",
    "    result = (description, price, rating, review_count, url)\n",
    "    \n",
    "    return result"
   ]
  },
  {
   "cell_type": "code",
   "execution_count": 83,
   "id": "3320da51",
   "metadata": {},
   "outputs": [],
   "source": [
    "records = []\n",
    "results = soup.find_all('div', {'data-component-type':'s-search-result'})\n",
    "\n",
    "for item in results:\n",
    "#   nhận giá trị result = {description, price, rating, review_count, url}\n",
    "    record_temp = extract_record(item) \n",
    "    if record_temp:\n",
    "        records.append(record_temp)"
   ]
  },
  {
   "cell_type": "code",
   "execution_count": 84,
   "id": "d104be52",
   "metadata": {},
   "outputs": [
    {
     "data": {
      "text/plain": [
       "('Amazon Basics Kids/Youth Gaming Recliner with Headrest and Back Pillow, 3+ Age Group, Black and Red',\n",
       " '$188.12',\n",
       " '4.6 out of 5 stars',\n",
       " '1,836',\n",
       " 'https://www.amazon.com/gp/slredirect/picassoRedirect.html/ref=pa_sp_atf_aps_sr_pg1_1?ie=UTF8&adId=A047620820RK7GCB0DFR3&url=%2FAmazonBasics-Gaming-Recliner-Headrest-Pillow%2Fdp%2FB07TJWWPJS%2Fref%3Dsr_1_1_sspa%3Fkeywords%3Dgaming%2Bchairs%26pd_rd_r%3D1dc02379-1097-4e2e-9b6f-9f458cdd5916%26pd_rd_w%3DYOfcP%26pd_rd_wg%3DwQEib%26pf_rd_p%3D12129333-2117-4490-9c17-6d31baf0582a%26pf_rd_r%3D9XFYQ5D3SSXQEDWWAMG9%26qid%3D1650122090%26sr%3D8-1-spons%26psc%3D1&qualifier=1650122090&id=3479174035583221&widgetName=sp_atf')"
      ]
     },
     "execution_count": 84,
     "metadata": {},
     "output_type": "execute_result"
    }
   ],
   "source": [
    "records[0]"
   ]
  },
  {
   "cell_type": "code",
   "execution_count": 85,
   "id": "8b45fdb1",
   "metadata": {},
   "outputs": [
    {
     "name": "stdout",
     "output_type": "stream",
     "text": [
      "$188.12\n",
      "$279.99\n",
      "$99.99\n",
      "$189.99\n",
      "$99.99\n",
      "$170.50\n",
      "$99.99\n",
      "$561.28\n",
      "$99.00\n",
      "$99.90\n",
      "$115.34\n",
      "$135.21\n",
      "$272.64\n",
      "$185.77\n",
      "$99.99\n",
      "$279.99\n",
      "$176.91\n",
      "$144.00\n",
      "$226.10\n",
      "$91.34\n",
      "$129.72\n",
      "$98.99\n",
      "$504.00\n",
      "$188.33\n",
      "$373.99\n",
      "$169.00\n",
      "$183.69\n",
      "$280.27\n",
      "$226.10\n",
      "$439.89\n",
      "$303.29\n",
      "$84.99\n",
      "$419.99\n",
      "$156.16\n",
      "$142.45\n",
      "$329.00\n",
      "$179.99\n",
      "$142.32\n",
      "$160.01\n",
      "$197.93\n",
      "$173.13\n",
      "$95.00\n",
      "$142.17\n",
      "$399.00\n",
      "$209.98\n",
      "$134.71\n",
      "$352.99\n",
      "$99.99\n",
      "$99.00\n",
      "$179.99\n",
      "$156.16\n",
      "$185.82\n"
     ]
    }
   ],
   "source": [
    "for row in records:\n",
    "    print(row[1])"
   ]
  },
  {
   "cell_type": "code",
   "execution_count": 89,
   "id": "f07ba387",
   "metadata": {},
   "outputs": [],
   "source": [
    "def get_url(search_term):\n",
    "    template = 'https://www.amazon.com/s?k={}&qid=1650126684&ref=sr_pg_1'\n",
    "    search_term = search_term.replace(' ', '+')\n",
    "    # add term query in url\n",
    "    url = template.format(search_term)\n",
    "    \n",
    "    #add page query placeholder\n",
    "    url += '&page{}'\n",
    "    \n",
    "    return url"
   ]
  },
  {
   "cell_type": "markdown",
   "id": "d1dbd3dc",
   "metadata": {},
   "source": [
    "### Putting it all together"
   ]
  },
  {
   "cell_type": "code",
   "execution_count": 103,
   "id": "7366224a",
   "metadata": {},
   "outputs": [],
   "source": [
    "import csv\n",
    "from bs4 import BeautifulSoup\n",
    "from selenium import webdriver\n",
    "from selenium.webdriver.chrome.service import Service\n",
    "from webdriver_manager.chrome import ChromeDriverManager\n",
    "\n",
    "driver = webdriver.Chrome(service=Service('C:\\\\Users\\\\CUONG NGUYEN\\\\.wdm\\\\drivers\\\\chromedriver\\\\win32\\\\100.0.4896.60\\\\chromedriver.exe'))\n",
    "\n",
    "# get đường dẫn\n",
    "def get_url(search_term):\n",
    "    template = 'https://www.amazon.com/s?k={}&qid=1650126684&ref=sr_pg_1'\n",
    "    search_term = search_term.replace(' ', '+')\n",
    "    # add term query in url\n",
    "    url = template.format(search_term)\n",
    "    \n",
    "    #add page query placeholder\n",
    "    url += '&page{}'\n",
    "    \n",
    "    return url\n",
    "\n",
    "#trích xuất dữ liệu - Extract in ETL\n",
    "def extract_record(item):\n",
    "    \"\"\"Extract and return data from single record\"\"\"\n",
    "    \n",
    "    #description and url\n",
    "    atag = item.h2.a\n",
    "    description = atag.text.strip()\n",
    "    url = 'https://www.amazon.com' + atag.get('href')\n",
    "    \n",
    "    #price\n",
    "    try:\n",
    "        price_parent = item.find('span', 'a-price')\n",
    "        price = price_parent.find('span', 'a-offscreen').text\n",
    "    except AttributeError:\n",
    "        return\n",
    "    \n",
    "    #rating and amount of customer rating\n",
    "    try:\n",
    "        rating = item.i.text\n",
    "        review_count = item.find('span', {'class': 'a-size-base'}).text\n",
    "    except AttributeError:\n",
    "        rating = ''\n",
    "        review_count = ''\n",
    "        \n",
    "    result = (description, price, rating, review_count, url)\n",
    "    \n",
    "    return result\n",
    "\n",
    "def main(search_term):\n",
    "#     run amazon\n",
    "#     url = 'https://www.amazon.com/'\n",
    "#     driver.get(url)\n",
    "    \n",
    "#     run đường dẫn sản phẩm\n",
    "    url = get_url(search_term)\n",
    "    records = []\n",
    "    \n",
    "    for page in range(1, 11):\n",
    "        driver.get(url.format(page))\n",
    "        soup = BeautifulSoup(driver.page_source, 'html.parser')\n",
    "        results = soup.find_all('div', {'data-component-type':'s-search-result'})\n",
    "        \n",
    "        for item in results:\n",
    "            record_temp = extract_record(item) \n",
    "            if record_temp:\n",
    "                records.append(record_temp)\n",
    "    driver.close()\n",
    "    \n",
    "    with open('result.csv', 'w', newline='', encoding='utf8') as f:\n",
    "        writer = csv.writer(f)\n",
    "        writer.writerow(['Description', 'Price', 'Rating', 'ReviewCount', 'Url'])\n",
    "        writer.writerows(records)"
   ]
  },
  {
   "cell_type": "code",
   "execution_count": 102,
   "id": "4883b8a2",
   "metadata": {},
   "outputs": [],
   "source": [
    "main('gaming chairs')"
   ]
  },
  {
   "cell_type": "code",
   "execution_count": null,
   "id": "f58c15ff",
   "metadata": {},
   "outputs": [],
   "source": []
  }
 ],
 "metadata": {
  "kernelspec": {
   "display_name": "Python 3 (ipykernel)",
   "language": "python",
   "name": "python3"
  },
  "language_info": {
   "codemirror_mode": {
    "name": "ipython",
    "version": 3
   },
   "file_extension": ".py",
   "mimetype": "text/x-python",
   "name": "python",
   "nbconvert_exporter": "python",
   "pygments_lexer": "ipython3",
   "version": "3.9.7"
  }
 },
 "nbformat": 4,
 "nbformat_minor": 5
}
